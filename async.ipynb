{
 "cells": [
  {
   "cell_type": "markdown",
   "metadata": {
    "deletable": true,
    "editable": true
   },
   "source": [
    "# Introduction\n",
    "\n",
    "* Python 3.5 and later have built-in support for *coroutines*. \n",
    "* Coroutines allow for concurrent threads of execution within a single process.\n",
    "* Coroutines are cheap both in terms of CPU time and memory\n",
    "  - Can run *lots* of them\n",
    "* Good model for I/O bound code\n",
    "* Similar to generators but with some restrictions.\n",
    "* Coroutines are co-operative\n",
    "  - A coroutine will keep running until it explictly yields control\n",
    "* Similar/related:\n",
    "  - Twisted\n",
    "  - Tornado\n",
    "  - gevent\n",
    "  - Stackless Python\n",
    "  - generators and `yield from`"
   ]
  },
  {
   "cell_type": "code",
   "execution_count": 1,
   "metadata": {
    "collapsed": false,
    "deletable": true,
    "editable": true
   },
   "outputs": [
    {
     "name": "stdout",
     "output_type": "stream",
     "text": [
      "<coroutine object foo at 0x7f97043e9d58>\n"
     ]
    }
   ],
   "source": [
    "async def foo():\n",
    "    print(\"hello\")\n",
    "    \n",
    "c = foo()\n",
    "print(c)"
   ]
  },
  {
   "cell_type": "code",
   "execution_count": 2,
   "metadata": {
    "collapsed": false,
    "deletable": true,
    "editable": true
   },
   "outputs": [
    {
     "ename": "TypeError",
     "evalue": "'coroutine' object is not an iterator",
     "output_type": "error",
     "traceback": [
      "\u001b[0;31m---------------------------------------------------------------------------\u001b[0m",
      "\u001b[0;31mTypeError\u001b[0m                                 Traceback (most recent call last)",
      "\u001b[0;32m<ipython-input-2-73b012f9653f>\u001b[0m in \u001b[0;36m<module>\u001b[0;34m()\u001b[0m\n\u001b[0;32m----> 1\u001b[0;31m \u001b[0mnext\u001b[0m\u001b[0;34m(\u001b[0m\u001b[0mc\u001b[0m\u001b[0;34m)\u001b[0m\u001b[0;34m\u001b[0m\u001b[0m\n\u001b[0m",
      "\u001b[0;31mTypeError\u001b[0m: 'coroutine' object is not an iterator"
     ]
    }
   ],
   "source": [
    "next(c)"
   ]
  },
  {
   "cell_type": "code",
   "execution_count": 3,
   "metadata": {
    "collapsed": false,
    "deletable": true,
    "editable": true
   },
   "outputs": [
    {
     "name": "stdout",
     "output_type": "stream",
     "text": [
      "hello\n"
     ]
    },
    {
     "ename": "StopIteration",
     "evalue": "",
     "output_type": "error",
     "traceback": [
      "\u001b[0;31m---------------------------------------------------------------------------\u001b[0m",
      "\u001b[0;31mStopIteration\u001b[0m                             Traceback (most recent call last)",
      "\u001b[0;32m<ipython-input-3-1f377d70f7a5>\u001b[0m in \u001b[0;36m<module>\u001b[0;34m()\u001b[0m\n\u001b[0;32m----> 1\u001b[0;31m \u001b[0mc\u001b[0m\u001b[0;34m.\u001b[0m\u001b[0msend\u001b[0m\u001b[0;34m(\u001b[0m\u001b[0;32mNone\u001b[0m\u001b[0;34m)\u001b[0m\u001b[0;34m\u001b[0m\u001b[0m\n\u001b[0m",
      "\u001b[0;31mStopIteration\u001b[0m: "
     ]
    }
   ],
   "source": [
    "c.send(None)"
   ]
  },
  {
   "cell_type": "markdown",
   "metadata": {
    "deletable": true,
    "editable": true
   },
   "source": [
    "# Returning Values"
   ]
  },
  {
   "cell_type": "code",
   "execution_count": 4,
   "metadata": {
    "collapsed": false,
    "deletable": true,
    "editable": true
   },
   "outputs": [
    {
     "name": "stdout",
     "output_type": "stream",
     "text": [
      "running\n"
     ]
    },
    {
     "ename": "StopIteration",
     "evalue": "hello",
     "output_type": "error",
     "traceback": [
      "\u001b[0;31m---------------------------------------------------------------------------\u001b[0m",
      "\u001b[0;31mStopIteration\u001b[0m                             Traceback (most recent call last)",
      "\u001b[0;32m<ipython-input-4-5a9b3d5013a1>\u001b[0m in \u001b[0;36m<module>\u001b[0;34m()\u001b[0m\n\u001b[1;32m      4\u001b[0m \u001b[0;34m\u001b[0m\u001b[0m\n\u001b[1;32m      5\u001b[0m \u001b[0mc\u001b[0m \u001b[0;34m=\u001b[0m \u001b[0mfoo\u001b[0m\u001b[0;34m(\u001b[0m\u001b[0;34m)\u001b[0m\u001b[0;34m\u001b[0m\u001b[0m\n\u001b[0;32m----> 6\u001b[0;31m \u001b[0mc\u001b[0m\u001b[0;34m.\u001b[0m\u001b[0msend\u001b[0m\u001b[0;34m(\u001b[0m\u001b[0;32mNone\u001b[0m\u001b[0;34m)\u001b[0m\u001b[0;34m\u001b[0m\u001b[0m\n\u001b[0m",
      "\u001b[0;31mStopIteration\u001b[0m: hello"
     ]
    }
   ],
   "source": [
    "async def foo():\n",
    "    print(\"running\")\n",
    "    return \"hello\"\n",
    "\n",
    "c = foo()\n",
    "c.send(None)\n"
   ]
  },
  {
   "cell_type": "markdown",
   "metadata": {
    "deletable": true,
    "editable": true
   },
   "source": [
    "# Chaining Coroutines"
   ]
  },
  {
   "cell_type": "code",
   "execution_count": 5,
   "metadata": {
    "collapsed": false,
    "deletable": true,
    "editable": true
   },
   "outputs": [
    {
     "name": "stdout",
     "output_type": "stream",
     "text": [
      "result:  7\n"
     ]
    }
   ],
   "source": [
    "async def double(x):\n",
    "    return x * 2\n",
    "\n",
    "async def compute(x, y):\n",
    "    return await double(x) + y\n",
    "\n",
    "async def print_result():\n",
    "    result = await compute(2, 3)\n",
    "    print(\"result: \", result)\n",
    "    \n",
    "try:\n",
    "    print_result().send(None)\n",
    "except StopIteration:\n",
    "    pass\n"
   ]
  },
  {
   "cell_type": "markdown",
   "metadata": {
    "deletable": true,
    "editable": true
   },
   "source": [
    "# asyncio\n",
    "\n",
    "* standard library package that has a bunch of tools for building asynchronous programs\n",
    "* builds on async and await support in Python 3.5+\n",
    "* also provides tools for doing similar things in older Pythons without async and await\n",
    "  - using generators\n",
    "  - available in stdlib from Python 3.4 onwards\n",
    "  - available from PyPI for Python 3.3\n",
    "* provides an *event loop*"
   ]
  },
  {
   "cell_type": "code",
   "execution_count": 6,
   "metadata": {
    "collapsed": false,
    "deletable": true,
    "editable": true
   },
   "outputs": [
    {
     "name": "stdout",
     "output_type": "stream",
     "text": [
      "Hello!\n"
     ]
    }
   ],
   "source": [
    "import asyncio\n",
    "\n",
    "async def hello():\n",
    "    print(\"Hello!\")\n",
    "    \n",
    "loop = asyncio.get_event_loop()\n",
    "loop.run_until_complete(hello())\n"
   ]
  },
  {
   "cell_type": "markdown",
   "metadata": {
    "deletable": true,
    "editable": true
   },
   "source": [
    "# Running Multiple Coroutines"
   ]
  },
  {
   "cell_type": "code",
   "execution_count": 7,
   "metadata": {
    "collapsed": false,
    "deletable": true,
    "editable": true
   },
   "outputs": [
    {
     "name": "stdout",
     "output_type": "stream",
     "text": [
      "sleeping 1\n",
      "sleeping 3\n",
      "sleeping 2\n",
      "awake 1\n",
      "awake 2\n",
      "awake 3\n"
     ]
    }
   ],
   "source": [
    "import asyncio\n",
    "\n",
    "async def sleepy(t):\n",
    "    print(\"sleeping\", t)\n",
    "    await asyncio.sleep(t)\n",
    "    print(\"awake\", t)\n",
    "        \n",
    "async def main():\n",
    "    await asyncio.wait([sleepy(3), sleepy(1), sleepy(2)])      \n",
    "    \n",
    "loop = asyncio.get_event_loop()\n",
    "loop.run_until_complete(main())"
   ]
  },
  {
   "cell_type": "code",
   "execution_count": 8,
   "metadata": {
    "collapsed": false,
    "deletable": true,
    "editable": true
   },
   "outputs": [
    {
     "name": "stdout",
     "output_type": "stream",
     "text": [
      "3\n",
      "1\n",
      "2\n"
     ]
    }
   ],
   "source": [
    "import asyncio\n",
    "\n",
    "async def sleepy(t):\n",
    "    await asyncio.sleep(t)\n",
    "    return t\n",
    "    \n",
    "async def main():\n",
    "    pending = [sleepy(3), sleepy(1), sleepy(2)]\n",
    "    done, _ = await asyncio.wait(pending)\n",
    "    for f in done:\n",
    "        print(await f)\n",
    "    \n",
    "loop = asyncio.get_event_loop()\n",
    "loop.run_until_complete(main())"
   ]
  },
  {
   "cell_type": "code",
   "execution_count": 10,
   "metadata": {
    "collapsed": false,
    "deletable": true,
    "editable": true
   },
   "outputs": [
    {
     "name": "stdout",
     "output_type": "stream",
     "text": [
      "1\n",
      "2\n",
      "3\n"
     ]
    }
   ],
   "source": [
    "import asyncio\n",
    "from concurrent.futures import FIRST_COMPLETED\n",
    "\n",
    "async def sleepy(t):\n",
    "    await asyncio.sleep(t)\n",
    "    return t\n",
    "    \n",
    "async def main():\n",
    "    pending = [sleepy(3), sleepy(1), sleepy(2)]\n",
    "    while pending:\n",
    "        done, pending = await asyncio.wait(pending, return_when=FIRST_COMPLETED)      \n",
    "        for f in done:\n",
    "            print(await f)\n",
    "    \n",
    "loop = asyncio.get_event_loop()\n",
    "loop.run_until_complete(main())\n"
   ]
  },
  {
   "cell_type": "markdown",
   "metadata": {
    "deletable": true,
    "editable": true
   },
   "source": [
    "# Producer Consumer\n",
    "\n",
    "Some new things here:\n",
    "- interaction between coroutines using asyncio.Queue\n",
    "- cancellation of tasks (much easier than with threads)"
   ]
  },
  {
   "cell_type": "code",
   "execution_count": null,
   "metadata": {
    "collapsed": true
   },
   "outputs": [],
   "source": []
  },
  {
   "cell_type": "markdown",
   "metadata": {
    "deletable": true,
    "editable": true
   },
   "source": [
    "# Producer Consumer\n",
    "\n",
    "Some new things here:\n",
    "- interaction between coroutines using asyncio.Queue\n",
    "- cancellation of tasks (much easier than with threads)"
   ]
  },
  {
   "cell_type": "code",
   "execution_count": 11,
   "metadata": {
    "collapsed": false,
    "deletable": true,
    "editable": true
   },
   "outputs": [
    {
     "name": "stdout",
     "output_type": "stream",
     "text": [
      "producer put 0\n",
      "consumer A running\n",
      "consumer A got 0\n",
      "consumer C running\n",
      "consumer B running\n",
      "producer put 1\n",
      "consumer A got 1\n",
      "producer put 2\n",
      "consumer C got 2\n",
      "producer put 3\n",
      "consumer B got 3\n",
      "producer put 4\n",
      "consumer A got 4\n",
      "producer put 5\n",
      "consumer C got 5\n",
      "producer put 6\n",
      "consumer B got 6\n",
      "producer put 7\n",
      "consumer A got 7\n",
      "producer put 8\n",
      "consumer C got 8\n",
      "producer put 9\n",
      "consumer B got 9\n",
      "producer put 10\n",
      "consumer A got 10\n",
      "producer put 11\n",
      "consumer C got 11\n",
      "producer put 12\n",
      "consumer B got 12\n",
      "producer put 13\n",
      "consumer A got 13\n",
      "producer put 14\n",
      "consumer C got 14\n",
      "producer put 15\n",
      "consumer B got 15\n",
      "producer put 16\n",
      "consumer A got 16\n",
      "producer put 17\n",
      "consumer C got 17\n",
      "producer put 18\n",
      "consumer B got 18\n",
      "producer put 19\n",
      "consumer A got 19\n",
      "consumer A cancelled\n",
      "consumer B cancelled\n",
      "consumer C cancelled\n"
     ]
    }
   ],
   "source": [
    "import asyncio\n",
    "from concurrent.futures import CancelledError\n",
    "\n",
    "async def producer(q):\n",
    "    for i in range(20):\n",
    "        await q.put(i)\n",
    "        print(\"producer put {}\".format(i))\n",
    "    # wait for everything to be processed\n",
    "    await q.join() \n",
    "\n",
    "\n",
    "async def consumer(name, q):\n",
    "    print(\"consumer {} running\".format(name))\n",
    "    while True:\n",
    "        try:\n",
    "            value = await q.get()\n",
    "        except CancelledError:\n",
    "            print(\"consumer {} cancelled\".format(name))\n",
    "            return\n",
    "        print(\"consumer {} got {}\".format(name, value))\n",
    "        q.task_done()\n",
    "        \n",
    "\n",
    "async def main():\n",
    "    q = asyncio.Queue(1)\n",
    "    \n",
    "    # start some consumers\n",
    "    consumers = asyncio.gather(\n",
    "            consumer(\"A\", q),\n",
    "            consumer(\"B\", q),\n",
    "            consumer(\"C\", q),\n",
    "        )\n",
    "    asyncio.ensure_future(consumers)\n",
    "    \n",
    "    # start the producer and wait for it finish\n",
    "    await producer(q)\n",
    "    \n",
    "    # all done - tell the consumers to stop\n",
    "    consumers.cancel()\n",
    "  \n",
    "    \n",
    "loop = asyncio.get_event_loop()\n",
    "loop.run_until_complete(main())\n"
   ]
  },
  {
   "cell_type": "markdown",
   "metadata": {
    "deletable": true,
    "editable": true
   },
   "source": [
    "# I/O\n",
    "\n",
    "### Server"
   ]
  },
  {
   "cell_type": "code",
   "execution_count": 12,
   "metadata": {
    "collapsed": false,
    "deletable": true,
    "editable": true
   },
   "outputs": [
    {
     "name": "stdout",
     "output_type": "stream",
     "text": [
      "Serving on 34949\n"
     ]
    }
   ],
   "source": [
    "import asyncio\n",
    "\n",
    "async def handle_echo(reader, writer):\n",
    "    while True:\n",
    "        line = await reader.readline()\n",
    "        if not line:\n",
    "            break\n",
    "        writer.write(line)\n",
    "        await writer.drain()\n",
    "\n",
    "\n",
    "loop = asyncio.get_event_loop()\n",
    "coro = asyncio.start_server(handle_echo, \"127.0.0.1\")\n",
    "server = loop.run_until_complete(coro)\n",
    "port = server.sockets[0].getsockname()[-1]\n",
    "print('Serving on {}'.format(port))\n"
   ]
  },
  {
   "cell_type": "markdown",
   "metadata": {
    "deletable": true,
    "editable": true
   },
   "source": [
    "### Client"
   ]
  },
  {
   "cell_type": "code",
   "execution_count": 13,
   "metadata": {
    "collapsed": false,
    "deletable": true,
    "editable": true
   },
   "outputs": [
    {
     "name": "stdout",
     "output_type": "stream",
     "text": [
      "'cheddar' [0]\n",
      "'roquefort' [0]\n",
      "'gorgonzola' [0]\n",
      "'stilton' [0]\n",
      "'danish' [0]\n",
      "'kikorangi' [0]\n",
      "'cheddar' [1]\n",
      "'roquefort' [1]\n",
      "'oxford' [0]\n",
      "'gorgonzola' [1]\n",
      "'stilton' [1]\n",
      "'danish' [1]\n",
      "'kikorangi' [1]\n",
      "'cheddar' [2]\n",
      "'roquefort' [2]\n",
      "'oxford' [1]\n",
      "'gorgonzola' [2]\n",
      "'stilton' [2]\n",
      "'danish' [2]\n",
      "'kikorangi' [2]\n",
      "'cheddar' [3]\n",
      "'roquefort' [3]\n",
      "'oxford' [2]\n",
      "'gorgonzola' [3]\n",
      "'stilton' [3]\n",
      "'danish' [3]\n",
      "'kikorangi' [3]\n",
      "'oxford' [3]\n"
     ]
    }
   ],
   "source": [
    "async def echo_client(message):   \n",
    "    reader, writer = await asyncio.open_connection('127.0.0.1', port)\n",
    "    for i in range(4):\n",
    "        writer.write(message.encode() + b\"\\n\")\n",
    "        line = await reader.readline()\n",
    "        print('{!r} [{}]'.format(line.decode().strip(), i))\n",
    "    writer.close()\n",
    "\n",
    "\n",
    "async def run_clients():\n",
    "    await asyncio.wait([\n",
    "        echo_client(\"oxford\"),\n",
    "        echo_client(\"stilton\"),\n",
    "        echo_client(\"kikorangi\"),\n",
    "        echo_client(\"danish\"),\n",
    "        echo_client(\"cheddar\"),\n",
    "        echo_client(\"roquefort\"),\n",
    "        echo_client(\"gorgonzola\"),\n",
    "    ])\n",
    "   \n",
    "\n",
    "loop.run_until_complete(run_clients())"
   ]
  },
  {
   "cell_type": "code",
   "execution_count": 14,
   "metadata": {
    "collapsed": false,
    "deletable": true,
    "editable": true
   },
   "outputs": [],
   "source": [
    "# Close the server\n",
    "server.close()\n",
    "loop.run_until_complete(server.wait_closed())"
   ]
  },
  {
   "cell_type": "markdown",
   "metadata": {
    "deletable": true,
    "editable": true
   },
   "source": [
    "## Other I/O Types\n",
    "\n",
    "* Aside from socket I/O asyncio has helpers for:\n",
    "  - signal handling\n",
    "  - subprocesses\n",
    "* There's 3rd party library for other uses:\n",
    "  - HTTP client and server: aiohttp\n",
    "  - Files: aiofiles\n",
    "  - and many more (search \"aio\" on PyPI)"
   ]
  },
  {
   "cell_type": "markdown",
   "metadata": {
    "deletable": true,
    "editable": true
   },
   "source": [
    "# Alternatives to the asyncio package\n",
    "\n",
    "* Apart from being in the standard library, there is nothing special about asyncio\n",
    "* Anyone can built on async and await to built their own event loops etc\n",
    "* There are plenty of complaints about asyncio being too big and complex\n",
    "  - There's a lot of stuff in there!\n",
    "* David Beazley's Curio is worth a look\n",
    "  - https://github.com/dabeaz/curio\n",
    "  - Has built-in support for async file I/O"
   ]
  }
 ],
 "metadata": {
  "kernelspec": {
   "display_name": "Python 3",
   "language": "python",
   "name": "python3"
  },
  "language_info": {
   "codemirror_mode": {
    "name": "ipython",
    "version": 3
   },
   "file_extension": ".py",
   "mimetype": "text/x-python",
   "name": "python",
   "nbconvert_exporter": "python",
   "pygments_lexer": "ipython3",
   "version": "3.5.2"
  }
 },
 "nbformat": 4,
 "nbformat_minor": 2
}
